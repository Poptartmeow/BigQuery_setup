{
 "cells": [
  {
   "cell_type": "markdown",
   "id": "312c5dd4",
   "metadata": {},
   "source": [
    "Google BigQuery SQL, it will lead you to below page"
   ]
  },
  {
   "cell_type": "markdown",
   "id": "697ea46e",
   "metadata": {},
   "source": [
    "![Intro Page](BigQuery_setup/1.png)"
   ]
  },
  {
   "cell_type": "markdown",
   "id": "f18078f9",
   "metadata": {},
   "source": [
    "Click on \"Get Started for free\"\n",
    "- Your acocunt information will pop up ( you will need a google account), click 'Agree & continue'"
   ]
  },
  {
   "cell_type": "markdown",
   "id": "ccfa3e6f",
   "metadata": {},
   "source": [
    "![Accoiunt info](BigQuery_setup/2.png)"
   ]
  },
  {
   "cell_type": "markdown",
   "id": "8df3d78a",
   "metadata": {},
   "source": [
    "Another window will pop out asking for your contact info. Fill it out then click 'Save'"
   ]
  },
  {
   "cell_type": "markdown",
   "id": "02940c1f",
   "metadata": {},
   "source": [
    "![Accoiunt info](BigQuery_setup/3.png)"
   ]
  },
  {
   "cell_type": "markdown",
   "id": "9ba60c6b",
   "metadata": {},
   "source": [
    "It will ask you to fill out payment information but don't worry. you will start will $300 credit and 90 days of trial period.\n",
    "- You won't be charged at this step"
   ]
  },
  {
   "cell_type": "markdown",
   "id": "0a4fe740",
   "metadata": {},
   "source": [
    "![Accoiunt info](BigQuery_setup/5.png)"
   ]
  },
  {
   "cell_type": "markdown",
   "id": "5cd66072",
   "metadata": {},
   "source": [
    "![Accoiunt info](BigQuery_setup/6.png)"
   ]
  },
  {
   "cell_type": "markdown",
   "id": "68fde3dc",
   "metadata": {},
   "source": [
    "Fill it out then click 'Start free'"
   ]
  },
  {
   "cell_type": "markdown",
   "id": "9cbeec60",
   "metadata": {},
   "source": [
    "![Accoiunt info](BigQuery_setup/7.png)"
   ]
  },
  {
   "cell_type": "markdown",
   "id": "5e39c522",
   "metadata": {},
   "source": [
    "- A pop up will appear asking you a few questions to tailor your experience. pick the ones you like than click 'Done'.\n",
    "- You will see below intro page to BigQuery Studio, click 'Activate' button at the right corner to activate your offer"
   ]
  },
  {
   "cell_type": "markdown",
   "id": "8564df41",
   "metadata": {},
   "source": [
    "![Accoiunt info](BigQuery_setup/8.png)"
   ]
  },
  {
   "cell_type": "markdown",
   "id": "73ce8e94",
   "metadata": {},
   "source": [
    "![Accoiunt info](BigQuery_setup/9.png)"
   ]
  },
  {
   "cell_type": "markdown",
   "id": "84e85499",
   "metadata": {},
   "source": [
    "Voila! you are good to go"
   ]
  },
  {
   "cell_type": "markdown",
   "id": "a10d9211",
   "metadata": {},
   "source": [
    "![Accoiunt info](BigQuery_setup/10.png)"
   ]
  },
  {
   "cell_type": "markdown",
   "id": "34a0a867",
   "metadata": {},
   "source": [
    "To load in a schema, You could either click here to connect to external data servers or data on google drive"
   ]
  },
  {
   "cell_type": "markdown",
   "id": "8e2522e3",
   "metadata": {},
   "source": [
    "![Accoiunt info](BigQuery_setup/11.png)"
   ]
  },
  {
   "cell_type": "markdown",
   "id": "26fdac78",
   "metadata": {},
   "source": [
    "Or, click on one of these links on the Intro page for Demo Database"
   ]
  },
  {
   "cell_type": "markdown",
   "id": "24129483",
   "metadata": {},
   "source": [
    "![Accoiunt info](BigQuery_setup/12.png)"
   ]
  },
  {
   "cell_type": "markdown",
   "id": "bdb2ad51",
   "metadata": {},
   "source": [
    "Once schema is loaded, feel free to test out a few lines of queries."
   ]
  }
 ],
 "metadata": {
  "kernelspec": {
   "display_name": "base2",
   "language": "python",
   "name": "python3"
  },
  "language_info": {
   "codemirror_mode": {
    "name": "ipython",
    "version": 3
   },
   "file_extension": ".py",
   "mimetype": "text/x-python",
   "name": "python",
   "nbconvert_exporter": "python",
   "pygments_lexer": "ipython3",
   "version": "3.13.7"
  }
 },
 "nbformat": 4,
 "nbformat_minor": 5
}
