{
 "cells": [
  {
   "cell_type": "markdown",
   "id": "312c5dd4",
   "metadata": {},
   "source": [
    "## Google BigQuery SQL, it will lead you to below page"
   ]
  },
  {
   "cell_type": "markdown",
   "id": "697ea46e",
   "metadata": {},
   "source": [
    "![Intro Page](src/1.png)"
   ]
  },
  {
   "cell_type": "markdown",
   "id": "f18078f9",
   "metadata": {},
   "source": [
    "## Click on \"Get Started for free\"\n",
    "## - Your acocunt information will pop up ( you will need a google account), click 'Agree & continue'"
   ]
  },
  {
   "cell_type": "markdown",
   "id": "ccfa3e6f",
   "metadata": {},
   "source": [
    "![Account info](src/2.png)"
   ]
  },
  {
   "cell_type": "markdown",
   "id": "8df3d78a",
   "metadata": {},
   "source": [
    "## Another window will pop out asking for your contact info. Fill it out then click 'Save'"
   ]
  },
  {
   "cell_type": "markdown",
   "id": "02940c1f",
   "metadata": {},
   "source": [
    "![Contact info](src/3.png)"
   ]
  },
  {
   "cell_type": "markdown",
   "id": "9ba60c6b",
   "metadata": {},
   "source": [
    "## It will ask you to fill out payment information but don't worry. you will start will $300 credit and 90 days of trial period.\n",
    "## - You won't be charged at this step"
   ]
  },
  {
   "cell_type": "markdown",
   "id": "5cd66072",
   "metadata": {},
   "source": [
    "![payment info](src/5.png)"
   ]
  },
  {
   "cell_type": "markdown",
   "id": "252a2d97",
   "metadata": {
    "vscode": {
     "languageId": "plaintext"
    }
   },
   "source": [
    "![payment info2](src/6.png)"
   ]
  },
  {
   "cell_type": "markdown",
   "id": "68fde3dc",
   "metadata": {},
   "source": [
    "## Fill it out then click 'Start free'"
   ]
  },
  {
   "cell_type": "markdown",
   "id": "9cbeec60",
   "metadata": {},
   "source": [
    "![Survey](src/7.png)"
   ]
  },
  {
   "cell_type": "markdown",
   "id": "5e39c522",
   "metadata": {},
   "source": [
    "## - A pop up will appear asking you a few questions to tailor your experience. pick the ones you like than click 'Done'.\n",
    "## - You will see below intro page to BigQuery Studio, click 'Activate' button at the right corner to activate your offer"
   ]
  },
  {
   "cell_type": "markdown",
   "id": "8564df41",
   "metadata": {},
   "source": [
    "![Activation](src/8.png)"
   ]
  },
  {
   "cell_type": "markdown",
   "id": "73ce8e94",
   "metadata": {},
   "source": [
    "![Activation Confirmation](src/9.png)"
   ]
  },
  {
   "cell_type": "markdown",
   "id": "84e85499",
   "metadata": {},
   "source": [
    "## Voila! you are good to go"
   ]
  },
  {
   "cell_type": "markdown",
   "id": "ad1536ed",
   "metadata": {},
   "source": [
    "## If you want to load in some data externally to try some code, click the '+ Add data' button'"
   ]
  },
  {
   "cell_type": "markdown",
   "id": "a10d9211",
   "metadata": {},
   "source": [
    "![Add Data](src/10.png)"
   ]
  },
  {
   "cell_type": "markdown",
   "id": "34a0a867",
   "metadata": {},
   "source": [
    "## To load sample data, You could just click this section on welcome page"
   ]
  },
  {
   "cell_type": "markdown",
   "id": "8e2522e3",
   "metadata": {},
   "source": [
    "![Load data](src/11.png)"
   ]
  },
  {
   "cell_type": "markdown",
   "id": "26fdac78",
   "metadata": {},
   "source": [
    "## Once schema is loaded, feel free to test out a few lines of queries."
   ]
  },
  {
   "cell_type": "markdown",
   "id": "24129483",
   "metadata": {},
   "source": [
    "![test codes](src/12.png)"
   ]
  }
 ],
 "metadata": {
  "kernelspec": {
   "display_name": "base2",
   "language": "python",
   "name": "python3"
  },
  "language_info": {
   "codemirror_mode": {
    "name": "ipython",
    "version": 3
   },
   "file_extension": ".py",
   "mimetype": "text/x-python",
   "name": "python",
   "nbconvert_exporter": "python",
   "pygments_lexer": "ipython3",
   "version": "3.13.7"
  }
 },
 "nbformat": 4,
 "nbformat_minor": 5
}
